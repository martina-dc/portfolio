{
  "cells": [
    {
      "attachments": {},
      "cell_type": "markdown",
      "metadata": {
        "id": "fhxuQlxLUgqU"
      },
      "source": [
        "# Exploring News Articles from Página 12: An NLP Project\n",
        "\n",
        "I am conducting an NLP project in which I am scraping news articles from the Argentine digital newspaper, Página 12, using Python's BeautifulSoup, Pandas, and Requests packages. By utilizing these tools, I am able to extract the relevant information from the webpage and structure it into a usable format for analysis and modeling. This enables me to gain insights and extract valuable information from the articles published there."
      ]
    },
    {
      "attachments": {},
      "cell_type": "markdown",
      "metadata": {},
      "source": [
        "Package importation"
      ]
    },
    {
      "cell_type": "code",
      "execution_count": 29,
      "metadata": {
        "id": "uyEg1WJWTEWa"
      },
      "outputs": [],
      "source": [
        "import requests\n",
        "from bs4 import BeautifulSoup\n",
        "import pandas as pd\n",
        "import datetime\n"
      ]
    },
    {
      "cell_type": "code",
      "execution_count": 30,
      "metadata": {
        "id": "15tH9F6HWrbA"
      },
      "outputs": [],
      "source": [
        "today = datetime.date.today()"
      ]
    },
    {
      "cell_type": "markdown",
      "metadata": {},
      "source": [
        "The url from Pagina12 is https://www.pagina12.com.ar"
      ]
    },
    {
      "cell_type": "code",
      "execution_count": 31,
      "metadata": {
        "id": "zteky0hicO-e"
      },
      "outputs": [],
      "source": [
        "url = 'https://www.pagina12.com.ar//'\n",
        "headers = {\"User-Agent\":\"Mozilla/5.0 (Macintosh; Intel Mac OS X 10_15_4) AppleWebKit/537.36 (KHTML, like Gecko) Chrome/83.0.4103.97 Safari/537.36\"}\n"
      ]
    },
    {
      "attachments": {},
      "cell_type": "markdown",
      "metadata": {},
      "source": [
        "The two functions `obtener_sopa` and `crear_linkp12` are used in a web scraping project.\n",
        "\n",
        "The `obtener_sopa` function takes two inputs: link and headers. It uses the requests package in Python to send a GET request to the specified link, with the given headers. The function first checks that the status code of the response is 200, which indicates a successful response. If the status code is not 200, an error message is raised. The function then returns the response content as a BeautifulSoup object, which is a parsing library used to extract information from HTML or XML documents.\n",
        "\n",
        "The `crear_linkp12` function takes one input: link. It creates a link to the pagina12 website by concatenating the string `'https://www.pagina12.com.ar'` with the input link. The function returns the newly created link."
      ]
    },
    {
      "cell_type": "code",
      "execution_count": 32,
      "metadata": {
        "id": "1GOI3F03LWhe"
      },
      "outputs": [],
      "source": [
        "def obtener_sopa(link, headers = headers):\n",
        "    req = requests.get(link,\n",
        "                     headers = headers)\n",
        "    assert req.status_code == 200, 'El status code no es 200, algo fallo'\n",
        "    return BeautifulSoup(req.text, 'lxml')\n",
        "def crear_linkp12(link):\n",
        "  return 'https://www.pagina12.com.ar'+link"
      ]
    },
    {
      "cell_type": "code",
      "execution_count": 33,
      "metadata": {
        "id": "jsunO9G4cTjt"
      },
      "outputs": [],
      "source": [
        "sopa = obtener_sopa(url)"
      ]
    },
    {
      "attachments": {},
      "cell_type": "markdown",
      "metadata": {
        "id": "XJfqQH9RiVQz"
      },
      "source": [
        "### Key information extraction"
      ]
    },
    {
      "cell_type": "code",
      "execution_count": 34,
      "metadata": {
        "id": "x5Xg5Ld0jHie"
      },
      "outputs": [],
      "source": [
        "#Devuelve el primer elemento que encuentra con ese tag el find\n",
        "lista_secciones = sopa.find('div', attrs={'class':'p12-dropdown-content'}).find_all('a', attrs={'class': 'p12-dropdown-item'})"
      ]
    },
    {
      "attachments": {},
      "cell_type": "markdown",
      "metadata": {},
      "source": [
        "Here I show the sections that the newspaper has:"
      ]
    },
    {
      "cell_type": "code",
      "execution_count": 35,
      "metadata": {
        "colab": {
          "base_uri": "https://localhost:8080/"
        },
        "id": "Mv4Qh_wXHIvH",
        "outputId": "bba39c7a-82f7-4e62-ef01-40ca48a432d2"
      },
      "outputs": [
        {
          "data": {
            "text/plain": [
              "[<a class=\"p12-dropdown-item\" href=\"https://www.pagina12.com.ar/secciones/el-pais\">El país</a>,\n",
              " <a class=\"p12-dropdown-item\" href=\"https://www.pagina12.com.ar/secciones/economia\">Economía</a>,\n",
              " <a class=\"p12-dropdown-item\" href=\"https://www.pagina12.com.ar/secciones/sociedad\">Sociedad</a>,\n",
              " <a class=\"p12-dropdown-item\" href=\"https://www.pagina12.com.ar/suplementos/cultura-y-espectaculos\">Espectáculos</a>,\n",
              " <a class=\"p12-dropdown-item\" href=\"https://www.pagina12.com.ar/secciones/deportes\">Deportes</a>,\n",
              " <a class=\"p12-dropdown-item\" href=\"https://www.pagina12.com.ar/secciones/ciencia\">Ciencia</a>,\n",
              " <a class=\"p12-dropdown-item\" href=\"https://www.pagina12.com.ar/secciones/el-mundo\">El mundo</a>,\n",
              " <a class=\"p12-dropdown-item\" href=\"https://www.pagina12.com.ar/edicion-impresa\">Edición impresa</a>,\n",
              " <a class=\"p12-dropdown-item\" href=\"https://www.pagina12.com.ar/secciones/universidad-diario\">Universidad</a>,\n",
              " <a class=\"p12-dropdown-item\" href=\"https://www.pagina12.com.ar/secciones/ajedrez\">Ajedrez</a>,\n",
              " <a class=\"p12-dropdown-item\" href=\"https://www.pagina12.com.ar/secciones/cultura\">Cultura</a>,\n",
              " <a class=\"p12-dropdown-item\" href=\"https://www.pagina12.com.ar/secciones/dialogos\">Diálogos</a>,\n",
              " <a class=\"p12-dropdown-item\" href=\"https://www.pagina12.com.ar/secciones/plastica\">Plástica</a>,\n",
              " <a class=\"p12-dropdown-item\" href=\"https://www.pagina12.com.ar/secciones/psicologia\">Psicología</a>,\n",
              " <a class=\"p12-dropdown-item\" href=\"https://www.pagina12.com.ar/secciones/cartas-de-lectores\">Cartas de lectores</a>,\n",
              " <a class=\"p12-dropdown-item\" href=\"https://www.pagina12.com.ar/secciones/contratapa\">Contratapa</a>,\n",
              " <a class=\"p12-dropdown-item\" href=\"https://www.pagina12.com.ar/secciones/audiovisuales\">Audiovisuales</a>,\n",
              " <a class=\"p12-dropdown-item\" href=\"https://www.pagina12.com.ar/secciones/recordatorios\">Recordatorios</a>,\n",
              " <a class=\"p12-dropdown-item\" href=\"https://www.pagina12.com.ar/secciones/negrx\">Negrx</a>,\n",
              " <a class=\"p12-dropdown-item\" href=\"https://www.pagina12.com.ar/secciones/buenos-aires12\">Buenos Aires12</a>,\n",
              " <a class=\"p12-dropdown-item\" href=\"https://www.pagina12.com.ar/secciones/salta12\">Salta12</a>,\n",
              " <a class=\"p12-dropdown-item\" href=\"https://www.pagina12.com.ar/secciones/catamarca12\">Catamarca12</a>,\n",
              " <a class=\"p12-dropdown-item\" href=\"https://www.pagina12.com.ar/secciones/la-rioja12\">La Rioja12</a>,\n",
              " <a class=\"p12-dropdown-item\" href=\"https://www.pagina12.com.ar/secciones/podcasts\">Podcasts</a>,\n",
              " <a class=\"p12-dropdown-item\" href=\"https://www.pagina12.com.ar/secciones/soci@s\">Soci@s</a>,\n",
              " <a class=\"p12-dropdown-item\" href=\"https://www.pagina12.com.ar/secciones/la-ventana\">La ventana</a>,\n",
              " <a class=\"p12-dropdown-item\" href=\"https://www.pagina12.com.ar/suplementos/diario\">Principal/Diario</a>,\n",
              " <a class=\"p12-dropdown-item\" href=\"https://www.pagina12.com.ar/suplementos/universidad\">Universidad</a>,\n",
              " <a class=\"p12-dropdown-item\" href=\"https://www.pagina12.com.ar/suplementos/cultura-y-espectaculos\">Cultura y Espectáculos</a>,\n",
              " <a class=\"p12-dropdown-item\" href=\"https://www.pagina12.com.ar/suplementos/cash\">Cash</a>,\n",
              " <a class=\"p12-dropdown-item\" href=\"https://www.pagina12.com.ar/suplementos/radar\">Radar</a>,\n",
              " <a class=\"p12-dropdown-item\" href=\"https://www.pagina12.com.ar/suplementos/turismo\">Turismo</a>,\n",
              " <a class=\"p12-dropdown-item\" href=\"https://www.pagina12.com.ar/suplementos/radar-libros\">Radar Libros</a>,\n",
              " <a class=\"p12-dropdown-item\" href=\"https://www.pagina12.com.ar/suplementos/no\">NO</a>,\n",
              " <a class=\"p12-dropdown-item\" href=\"https://www.pagina12.com.ar/suplementos/soy\">Soy</a>,\n",
              " <a class=\"p12-dropdown-item\" href=\"https://www.pagina12.com.ar/suplementos/las12\">Las12</a>,\n",
              " <a class=\"p12-dropdown-item\" href=\"https://www.pagina12.com.ar/suplementos/satira12\">Sátira12</a>,\n",
              " <a class=\"p12-dropdown-item\" href=\"https://www.pagina12.com.ar/suplementos/rosario12\">Rosario12</a>,\n",
              " <a class=\"p12-dropdown-item\" href=\"https://www.pagina12.com.ar/suplementos/verano12\">Verano12</a>,\n",
              " <a class=\"p12-dropdown-item\" href=\"https://www.pagina12.com.ar/suplementos/libero\">Líbero</a>,\n",
              " <a class=\"p12-dropdown-item\" href=\"https://www.pagina12.com.ar/suplementos/especiales\">Especiales de P12</a>,\n",
              " <a class=\"p12-dropdown-item\" href=\"https://www.pagina12.com.ar/go-noticias\">GO Noticias</a>,\n",
              " <a class=\"p12-dropdown-item\" href=\"https://www.pagina12.com.ar/am750\">AM750</a>,\n",
              " <a class=\"p12-dropdown-item\" href=\"https://www.pagina12.com.ar/malena\">Malena</a>,\n",
              " <a class=\"p12-dropdown-item\" href=\"https://www.pagina12.com.ar/latinoamerica-piensa\">Latinoamérica Piensa</a>]"
            ]
          },
          "execution_count": 35,
          "metadata": {},
          "output_type": "execute_result"
        }
      ],
      "source": [
        "lista_secciones"
      ]
    },
    {
      "attachments": {},
      "cell_type": "markdown",
      "metadata": {
        "id": "tWSDj-YtHKKr"
      },
      "source": [
        "Not all sections are of interest to me, some are very specific and we won't find them in other newspapers. So I select those of interest. \n",
        "After that I let the user decide one from the list: "
      ]
    },
    {
      "attachments": {},
      "cell_type": "markdown",
      "metadata": {
        "id": "yqRzMSjnmtsu"
      },
      "source": [
        "\n",
        "\n",
        "['El país', 'Economía', 'Sociedad', 'Espectáculos',\n",
        "                       'Deportes', 'Ciencia', 'Cultura', 'Turismo' ]"
      ]
    },
    {
      "cell_type": "code",
      "execution_count": 36,
      "metadata": {
        "colab": {
          "base_uri": "https://localhost:8080/"
        },
        "id": "6mymzsUnn3Xd",
        "outputId": "fd3a89cf-c5dd-4ea6-e7c2-658e72bb5ec1"
      },
      "outputs": [],
      "source": [
        "seccion_deseada = input(\"Enter one of the following sections: Cultura (Culture),Espectáculos (Entertainment),Ciencia (Science),El país (The country),Sociedad (Society),Deportes (Sports),El mundo (The World) o Economía (Economy)   \")\n",
        "pags = int(input('Enter the number of pages you want:   '))"
      ]
    },
    {
      "cell_type": "code",
      "execution_count": 37,
      "metadata": {
        "id": "q69b8DN9HREF"
      },
      "outputs": [],
      "source": [
        "secciones_deseadas = [seccion_deseada]\n"
      ]
    },
    {
      "cell_type": "code",
      "execution_count": 38,
      "metadata": {
        "colab": {
          "base_uri": "https://localhost:8080/"
        },
        "id": "O24CfZHWHkkJ",
        "outputId": "e63e43c3-5844-4612-b268-2d54fe85aa2f"
      },
      "outputs": [
        {
          "data": {
            "text/plain": [
              "[<a class=\"p12-dropdown-item\" href=\"https://www.pagina12.com.ar/secciones/economia\">Economía</a>]"
            ]
          },
          "execution_count": 38,
          "metadata": {},
          "output_type": "execute_result"
        }
      ],
      "source": [
        "lista_secciones_f = [seccion for seccion in lista_secciones if seccion.get_text() in secciones_deseadas]\n",
        "lista_secciones_f"
      ]
    },
    {
      "attachments": {},
      "cell_type": "markdown",
      "metadata": {
        "id": "OElILofgE2L8"
      },
      "source": [
        "I built a list that contains dictionaries inside. Each dictionary will have the name of the section, a link to it, the highlighted note, and the rest of the notes."
      ]
    },
    {
      "cell_type": "code",
      "execution_count": 39,
      "metadata": {
        "id": "3BVsPoeeFBvi"
      },
      "outputs": [],
      "source": [
        "l = []"
      ]
    },
    {
      "cell_type": "code",
      "execution_count": 40,
      "metadata": {
        "id": "fcqBGF8ZrOqS"
      },
      "outputs": [],
      "source": [
        "links_secciones = [seccion.get('href') for seccion in lista_secciones_f]\n",
        "text_secciones = [seccion.get_text() for seccion in lista_secciones_f]"
      ]
    },
    {
      "cell_type": "code",
      "execution_count": 41,
      "metadata": {
        "colab": {
          "base_uri": "https://localhost:8080/"
        },
        "id": "XNH0-mQLhKN_",
        "outputId": "5d5b4f5f-fe2c-451b-8ba9-c44199801eba"
      },
      "outputs": [
        {
          "data": {
            "text/plain": [
              "['https://www.pagina12.com.ar/secciones/economia']"
            ]
          },
          "execution_count": 41,
          "metadata": {},
          "output_type": "execute_result"
        }
      ],
      "source": [
        "links_secciones"
      ]
    },
    {
      "attachments": {},
      "cell_type": "markdown",
      "metadata": {},
      "source": [
        "The function `generar_paginacion_links` takes two inputs: the number of pages to generate (`cant_paginas`) and a list of sections (`lista_secc`). It generates a new list of links by appending the page number to the original link in the list of sections, except for the 'Espectáculos' section, which uses a different format based on the date. The function returns the generated list of links.\n",
        "\n",
        "The function `generar_paginacion_nombres` takes two inputs: the number of pages to generate (`cant_paginas`) and a list of sections (`lista_secc`). It generates a new list of names by repeating the names of the sections in the input list. The function returns the generated list of names."
      ]
    },
    {
      "cell_type": "code",
      "execution_count": 42,
      "metadata": {
        "id": "-5zWBnuOfhhF"
      },
      "outputs": [],
      "source": [
        "def generar_paginacion_links(cant_paginas, lista_secc ):\n",
        "  nuevos_links = []\n",
        "  for i in lista_secc:\n",
        "    if 'espectaculos' not in i:\n",
        "      for pag in range(0, cant_paginas, 1):\n",
        "        new_link = i + '?page=' + str(pag + 1)\n",
        "        nuevos_links.append(new_link)\n",
        "    else:\n",
        "        for pag in range(0, cant_paginas, 1):\n",
        "         \n",
        "          day= today - datetime.timedelta(days = pag+1)\n",
        "          day = str(day.year * 10000 + day.month * 100 + day.day)\n",
        "          new_link = i + '/' + day[6:8] + '-' + day[4:6] + '-' + day[:4]\n",
        "          nuevos_links.append(new_link)\n",
        "  return nuevos_links\n",
        "\n",
        "def generar_paginacion_nombres(cant_paginas, lista_secc):\n",
        "  nuevos_nombres = []\n",
        "  for i in text_secciones:\n",
        "    for pag in range(0, cant_paginas, 1):\n",
        "      new_name = i\n",
        "      nuevos_nombres.append(new_name)\n",
        "  return nuevos_nombres"
      ]
    },
    {
      "cell_type": "code",
      "execution_count": 43,
      "metadata": {
        "id": "0-QhFoofgtUv"
      },
      "outputs": [],
      "source": [
        "links_secciones.extend(generar_paginacion_links(pags, links_secciones))"
      ]
    },
    {
      "cell_type": "code",
      "execution_count": 44,
      "metadata": {
        "id": "mK-ypK33iDo8"
      },
      "outputs": [],
      "source": [
        "text_secciones.extend(generar_paginacion_nombres(pags, text_secciones))"
      ]
    },
    {
      "cell_type": "code",
      "execution_count": 45,
      "metadata": {
        "id": "FtINqiPvpkld"
      },
      "outputs": [],
      "source": [
        "for link, text in zip(links_secciones, text_secciones):\n",
        "  p12_dicc = {}\n",
        "  p12_dicc['id_seccion'] = text\n",
        "  p12_dicc['link_seccion'] = link\n",
        "  l.append(p12_dicc)"
      ]
    },
    {
      "cell_type": "code",
      "execution_count": 46,
      "metadata": {
        "id": "2MxCkOdFFAYa"
      },
      "outputs": [],
      "source": [
        "for i in l:\n",
        "  i['sopa_pagina'] = obtener_sopa(i['link_seccion'])"
      ]
    },
    {
      "attachments": {},
      "cell_type": "markdown",
      "metadata": {
        "id": "VP8telKQi-q8"
      },
      "source": [
        "We obtain the notes from the entire page for all sections (only from the first page)."
      ]
    },
    {
      "cell_type": "code",
      "execution_count": 47,
      "metadata": {
        "colab": {
          "base_uri": "https://localhost:8080/",
          "height": 333
        },
        "id": "E-QMjNZMbHYW",
        "outputId": "67399c76-41ec-41b7-f0f7-8d883ff59726"
      },
      "outputs": [],
      "source": [
        "for seccion in l:\n",
        "    if seccion['id_seccion'] not in ['Turismo', 'Espectáculos']:\n",
        "       notas = seccion['sopa_pagina'].find_all('div', attrs = {'class' : 'article-item__content'})\n",
        "    else:\n",
        "      notas = seccion['sopa_pagina'].find_all('div', attrs = {'class' : 'article-box__container'})\n",
        "    seccion['notas'] = []\n",
        "    for i in notas:\n",
        "       link = i.a.get('href')\n",
        "       seccion['notas'].append({'link' : crear_linkp12(link),\n",
        "                             'sopa' : obtener_sopa(crear_linkp12(link))\n",
        "                               })   \n"
      ]
    },
    {
      "attachments": {},
      "cell_type": "markdown",
      "metadata": {
        "id": "00wO3F6_89Ah"
      },
      "source": [
        "Now for each HTML of the notes that we have downloaded, we get the title, subtitle, and the first paragraph."
      ]
    },
    {
      "cell_type": "code",
      "execution_count": 48,
      "metadata": {
        "id": "qvS0jBTn8RaW"
      },
      "outputs": [],
      "source": [
        "def get_data_from_note(nota, texto):\n",
        "  nota['primer_parrafo'] = texto.find(\"div\", {\"class\":\"article-main-content article-text\"}).p.text\n",
        "  nota['titulo'] = texto.find('h1').text\n",
        "  nota['subtitulo'] = texto.find('h3').text\n",
        "\n",
        "for seccion in l:\n",
        "  if 'notas' in seccion.keys():\n",
        "    for nota in seccion['notas']:\n",
        "\n",
        "      texto = nota['sopa']\n",
        "      try:\n",
        "        get_data_from_note(nota, texto)\n",
        "      except AttributeError:\n",
        "        continue     \n",
        "\n",
        "  "
      ]
    },
    {
      "cell_type": "code",
      "execution_count": 49,
      "metadata": {
        "id": "KLy9QpsN9YMO"
      },
      "outputs": [],
      "source": [
        "df = pd.DataFrame()\n",
        "for seccion in l:\n",
        "  if 'notas' in seccion.keys():\n",
        "    df1 = pd.DataFrame()\n",
        "    for nota in seccion['notas']:\n",
        "      try:\n",
        "        nota['titulo']\n",
        "      except KeyError: \n",
        "        continue\n",
        "      dicc = {}\n",
        "      dicc = {'titulo': [nota['titulo']], \n",
        "              'subtitulo': [nota['subtitulo']], \n",
        "              'primer_parrafo': [nota['primer_parrafo']],\n",
        "              'seccion' : [seccion['id_seccion']]\n",
        "              }\n",
        "\n",
        "        \n",
        "      df1 = pd.concat([df1, pd.DataFrame(dicc)])\n",
        "    df = pd.concat([df, df1])\n",
        "  \n"
      ]
    },
    {
      "attachments": {},
      "cell_type": "markdown",
      "metadata": {},
      "source": [
        "This is a preview of the data downloaded:"
      ]
    },
    {
      "cell_type": "code",
      "execution_count": 50,
      "metadata": {
        "colab": {
          "base_uri": "https://localhost:8080/",
          "height": 204
        },
        "id": "LTjAVn1o-5zp",
        "outputId": "643a9bf7-5071-40d1-e66e-e74dd9e9195e"
      },
      "outputs": [
        {
          "data": {
            "text/html": [
              "<div>\n",
              "<style scoped>\n",
              "    .dataframe tbody tr th:only-of-type {\n",
              "        vertical-align: middle;\n",
              "    }\n",
              "\n",
              "    .dataframe tbody tr th {\n",
              "        vertical-align: top;\n",
              "    }\n",
              "\n",
              "    .dataframe thead th {\n",
              "        text-align: right;\n",
              "    }\n",
              "</style>\n",
              "<table border=\"1\" class=\"dataframe\">\n",
              "  <thead>\n",
              "    <tr style=\"text-align: right;\">\n",
              "      <th></th>\n",
              "      <th>titulo</th>\n",
              "      <th>subtitulo</th>\n",
              "      <th>primer_parrafo</th>\n",
              "      <th>seccion</th>\n",
              "    </tr>\n",
              "  </thead>\n",
              "  <tbody>\n",
              "    <tr>\n",
              "      <th>0</th>\n",
              "      <td>🔴 En vivo. Dólar blue y dólar hoy: todas las c...</td>\n",
              "      <td>El precio de compra y venta de la divisa</td>\n",
              "      <td>El dólar blue cotiza a $379 para la venta y $3...</td>\n",
              "      <td>Economía</td>\n",
              "    </tr>\n",
              "    <tr>\n",
              "      <th>0</th>\n",
              "      <td>Presentan la segunda etapa de Precios Justos</td>\n",
              "      <td>Incluye nuevos productos, la canasta escolar y...</td>\n",
              "      <td>El ministro de Economía, Sergio Massa, anunció...</td>\n",
              "      <td>Economía</td>\n",
              "    </tr>\n",
              "    <tr>\n",
              "      <th>0</th>\n",
              "      <td>Dólar blue hoy, dólar hoy: a cuánto cotizan el...</td>\n",
              "      <td>El dólar blue sube 3 pesos</td>\n",
              "      <td>La brecha entre el oficial y el dólar blue lle...</td>\n",
              "      <td>Economía</td>\n",
              "    </tr>\n",
              "    <tr>\n",
              "      <th>0</th>\n",
              "      <td>Emitirán un billete de 2000 pesos</td>\n",
              "      <td>\"Mejorará el funcionamiento de cajeros automát...</td>\n",
              "      <td>El Directorio del Banco Central de la Repúblic...</td>\n",
              "      <td>Economía</td>\n",
              "    </tr>\n",
              "    <tr>\n",
              "      <th>0</th>\n",
              "      <td>Mal inicio de mes para las reservas</td>\n",
              "      <td>El Banco Central debió vender u$s 56 millones....</td>\n",
              "      <td>El dólar oficial cerró con una cotización prom...</td>\n",
              "      <td>Economía</td>\n",
              "    </tr>\n",
              "  </tbody>\n",
              "</table>\n",
              "</div>"
            ],
            "text/plain": [
              "                                              titulo  \\\n",
              "0  🔴 En vivo. Dólar blue y dólar hoy: todas las c...   \n",
              "0       Presentan la segunda etapa de Precios Justos   \n",
              "0  Dólar blue hoy, dólar hoy: a cuánto cotizan el...   \n",
              "0                  Emitirán un billete de 2000 pesos   \n",
              "0               Mal inicio de mes para las reservas    \n",
              "\n",
              "                                           subtitulo  \\\n",
              "0          El precio de compra y venta de la divisa    \n",
              "0  Incluye nuevos productos, la canasta escolar y...   \n",
              "0                        El dólar blue sube 3 pesos    \n",
              "0  \"Mejorará el funcionamiento de cajeros automát...   \n",
              "0  El Banco Central debió vender u$s 56 millones....   \n",
              "\n",
              "                                      primer_parrafo   seccion  \n",
              "0  El dólar blue cotiza a $379 para la venta y $3...  Economía  \n",
              "0  El ministro de Economía, Sergio Massa, anunció...  Economía  \n",
              "0  La brecha entre el oficial y el dólar blue lle...  Economía  \n",
              "0  El Directorio del Banco Central de la Repúblic...  Economía  \n",
              "0  El dólar oficial cerró con una cotización prom...  Economía  "
            ]
          },
          "execution_count": 50,
          "metadata": {},
          "output_type": "execute_result"
        }
      ],
      "source": [
        "df.head()"
      ]
    },
    {
      "cell_type": "code",
      "execution_count": 51,
      "metadata": {
        "colab": {
          "base_uri": "https://localhost:8080/"
        },
        "id": "_Rm1bexr--an",
        "outputId": "309573fc-fd65-4698-d763-d4a97c7d8102"
      },
      "outputs": [
        {
          "data": {
            "text/plain": [
              "(231, 4)"
            ]
          },
          "execution_count": 51,
          "metadata": {},
          "output_type": "execute_result"
        }
      ],
      "source": [
        "df.shape"
      ]
    },
    {
      "cell_type": "code",
      "execution_count": 52,
      "metadata": {
        "colab": {
          "base_uri": "https://localhost:8080/"
        },
        "id": "uD4LojifATYY",
        "outputId": "315442f7-d7f7-4d0a-ddee-0b971814406a"
      },
      "outputs": [
        {
          "data": {
            "text/plain": [
              "Economía    231\n",
              "Name: seccion, dtype: int64"
            ]
          },
          "execution_count": 52,
          "metadata": {},
          "output_type": "execute_result"
        }
      ],
      "source": [
        "df.seccion.value_counts()"
      ]
    },
    {
      "cell_type": "code",
      "execution_count": 53,
      "metadata": {},
      "outputs": [],
      "source": [
        "date = today.year * 10000 + today.month * 100 + today.day"
      ]
    },
    {
      "cell_type": "code",
      "execution_count": 54,
      "metadata": {
        "id": "ImaK-c4EA-Z4"
      },
      "outputs": [],
      "source": [
        "path_save = './data/'"
      ]
    },
    {
      "cell_type": "code",
      "execution_count": 55,
      "metadata": {
        "id": "Cb88JTaYpAxf"
      },
      "outputs": [],
      "source": [
        "seccion_deseada_ = seccion_deseada.replace(\" \", \"\")"
      ]
    },
    {
      "attachments": {},
      "cell_type": "markdown",
      "metadata": {},
      "source": [
        "I save it to keep working in the nlp project in another notebook."
      ]
    },
    {
      "cell_type": "code",
      "execution_count": 56,
      "metadata": {
        "id": "p9OYbCw2AWd8"
      },
      "outputs": [],
      "source": [
        "df.to_csv(path_save + f'bajada_p12_{date}-{seccion_deseada_}.csv',\n",
        "          index = False)"
      ]
    }
  ],
  "metadata": {
    "colab": {
      "provenance": []
    },
    "kernelspec": {
      "display_name": "portfolio",
      "language": "python",
      "name": "python3"
    },
    "language_info": {
      "codemirror_mode": {
        "name": "ipython",
        "version": 3
      },
      "file_extension": ".py",
      "mimetype": "text/x-python",
      "name": "python",
      "nbconvert_exporter": "python",
      "pygments_lexer": "ipython3",
      "version": "3.11.0"
    },
    "vscode": {
      "interpreter": {
        "hash": "3120961854b4de0c77e5a047fa7c319a2bc849d1a60732a9d31225ed9da42def"
      }
    }
  },
  "nbformat": 4,
  "nbformat_minor": 0
}
